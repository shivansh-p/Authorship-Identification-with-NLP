{
  "cells": [
    {
      "cell_type": "markdown",
      "metadata": {
        "id": "view-in-github",
        "colab_type": "text"
      },
      "source": [
        "<a href=\"https://colab.research.google.com/github/yang-su2000/Authorship-Identification-with-NLP/blob/main/run_BERT.ipynb\" target=\"_parent\"><img src=\"https://colab.research.google.com/assets/colab-badge.svg\" alt=\"Open In Colab\"/></a>"
      ]
    },
    {
      "cell_type": "code",
      "execution_count": null,
      "metadata": {
        "colab": {
          "base_uri": "https://localhost:8080/"
        },
        "id": "5rMzpzIpaQox",
        "outputId": "4c8ca9f8-98d0-42e7-ac7d-b3eec2099800"
      },
      "outputs": [
        {
          "output_type": "stream",
          "name": "stdout",
          "text": [
            "Drive already mounted at /content/drive; to attempt to forcibly remount, call drive.mount(\"/content/drive\", force_remount=True).\n"
          ]
        }
      ],
      "source": [
        "from google.colab import drive\n",
        "drive.mount('/content/drive')\n",
        "\n",
        "import os\n",
        "os.chdir(\"drive/MyDrive/Colab Notebooks/Authorship Identification/\")"
      ]
    },
    {
      "cell_type": "markdown",
      "metadata": {
        "id": "llCdgZped_IG"
      },
      "source": [
        "### Load C50 Dataset"
      ]
    },
    {
      "cell_type": "code",
      "execution_count": null,
      "metadata": {
        "id": "BevX3w5kcAb_"
      },
      "outputs": [],
      "source": [
        "from os import listdir\n",
        "from os.path import isfile, isdir, join\n",
        "import numpy as np\n",
        "\n",
        "author_names = [name for name in listdir('C50/C50train/') if isdir(join('C50/C50train/', name))]\n",
        "print('There are', len(author_names), 'authors (both train and test), the first 3:', author_names[:3])\n",
        "\n",
        "train_article_names = [[article_name for article_name in listdir('C50/C50train/' + author_name + '/') if isfile(join('C50/C50train/' + author_name + '/', article_name))]\n",
        "                  for author_name in author_names]\n",
        "print('There are', len(train_article_names[0]), '(train) articles written by the first author')\n",
        "test_article_names = [[article_name for article_name in listdir('C50/C50test/' + author_name + '/') if isfile(join('C50/C50test/' + author_name + '/', article_name))]\n",
        "                  for author_name in author_names]\n",
        "print('There are', len(test_article_names[0]), '(test) articles written by the first author')\n",
        "\n",
        "train_articles = np.empty((2500, 2), dtype=object)\n",
        "for i, author_name in enumerate(author_names):\n",
        "  for j, article_name in enumerate(train_article_names[i]):\n",
        "    file_path = 'C50/C50train/' + author_name + '/' + article_name\n",
        "    with open(file_path, 'r') as f:\n",
        "      train_articles[i * len(author_names) + j, 0] = author_name\n",
        "      train_articles[i * len(author_names) + j, 1] = f.read()\n",
        "print('The shape of train articles is', train_articles.shape)\n",
        "\n",
        "test_articles = np.empty((2500, 2), dtype=object)\n",
        "for i, author_name in enumerate(author_names):\n",
        "  for j, article_name in enumerate(test_article_names[i]):\n",
        "    file_path = 'C50/C50test/' + author_name + '/' + article_name\n",
        "    with open(file_path, 'r') as f:\n",
        "      test_articles[i * len(author_names) + j, 0] = author_name\n",
        "      test_articles[i * len(author_names) + j, 1] = f.read()\n",
        "print('The shape of test articles is', test_articles.shape)"
      ]
    },
    {
      "cell_type": "code",
      "execution_count": null,
      "metadata": {
        "colab": {
          "base_uri": "https://localhost:8080/"
        },
        "id": "0zkmCqik3pv5",
        "outputId": "6fe38af4-7a9d-408c-c7bf-e9aa6933fe43"
      },
      "outputs": [
        {
          "name": "stdout",
          "output_type": "stream",
          "text": [
            "The average length of text of an article in training set is 501.77 and in test set is 509.5508\n"
          ]
        }
      ],
      "source": [
        "print('The average length of text of an article in training set is', np.mean([len(content.split()) for content in train_articles[:,1]]), \n",
        "      'and in test set is', np.mean([len(content.split()) for content in test_articles[:,1]]))"
      ]
    },
    {
      "cell_type": "code",
      "execution_count": null,
      "metadata": {
        "id": "8p6ErIWneHA2"
      },
      "outputs": [],
      "source": [
        "import pandas as pd\n",
        "\n",
        "train_df = pd.DataFrame(data=train_articles, columns=['author','content'])\n",
        "train_df.to_csv('C50/train.csv', index=False)\n",
        "test_df = pd.DataFrame(data=test_articles, columns=['author','content'])\n",
        "test_df.to_csv('C50/test.csv', index=False)"
      ]
    },
    {
      "cell_type": "markdown",
      "metadata": {
        "id": "Ee77QrMg9wSq"
      },
      "source": [
        "### Load C50 Dataset (if already loaded)"
      ]
    },
    {
      "cell_type": "markdown",
      "source": [
        "- this (original dataset) is 50 train - 50 test split"
      ],
      "metadata": {
        "id": "p3bN7yWQkfv8"
      }
    },
    {
      "cell_type": "code",
      "execution_count": null,
      "metadata": {
        "id": "MXBXPc3g9rUN"
      },
      "outputs": [],
      "source": [
        "import pandas as pd\n",
        "\n",
        "train_df = pd.read_csv('C50/train.csv')\n",
        "test_df = pd.read_csv('C50/test.csv')"
      ]
    },
    {
      "cell_type": "markdown",
      "source": [
        "- this is 90 train - 10 test split"
      ],
      "metadata": {
        "id": "6KCKg8WBknTs"
      }
    },
    {
      "cell_type": "code",
      "source": [
        "random_seed = 42\n",
        "test_frac = 0.1\n",
        "train_df = pd.concat([train_df, test_df])\n",
        "test_df = train_df.sample(frac=test_frac, random_state=random_seed)\n",
        "train_df = train_df.drop(test_df.index)"
      ],
      "metadata": {
        "id": "6qizdu9fkmz8"
      },
      "execution_count": null,
      "outputs": []
    },
    {
      "cell_type": "code",
      "execution_count": null,
      "metadata": {
        "colab": {
          "base_uri": "https://localhost:8080/",
          "height": 206
        },
        "id": "cNmEMg0g2HzD",
        "outputId": "b47b1aef-b852-4f2c-98e9-23bdbdb08975"
      },
      "outputs": [
        {
          "output_type": "execute_result",
          "data": {
            "text/plain": [
              "          author                                            content\n",
              "0  BernardHickey  Westpac Banking Corp Ltd is expected to report...\n",
              "1  BernardHickey  Australia's second-largest bank, Westpac Banki...\n",
              "2  BernardHickey  Airline giant British Airways Plc (BA) is unli...\n",
              "3  BernardHickey  An official inquiry into Australia's financial...\n",
              "4  BernardHickey  World yeast and spices giant Burns Philp &amp;..."
            ],
            "text/html": [
              "\n",
              "  <div id=\"df-713a95d1-daef-4e64-bcea-0bb5ee773dc7\">\n",
              "    <div class=\"colab-df-container\">\n",
              "      <div>\n",
              "<style scoped>\n",
              "    .dataframe tbody tr th:only-of-type {\n",
              "        vertical-align: middle;\n",
              "    }\n",
              "\n",
              "    .dataframe tbody tr th {\n",
              "        vertical-align: top;\n",
              "    }\n",
              "\n",
              "    .dataframe thead th {\n",
              "        text-align: right;\n",
              "    }\n",
              "</style>\n",
              "<table border=\"1\" class=\"dataframe\">\n",
              "  <thead>\n",
              "    <tr style=\"text-align: right;\">\n",
              "      <th></th>\n",
              "      <th>author</th>\n",
              "      <th>content</th>\n",
              "    </tr>\n",
              "  </thead>\n",
              "  <tbody>\n",
              "    <tr>\n",
              "      <th>0</th>\n",
              "      <td>BernardHickey</td>\n",
              "      <td>Westpac Banking Corp Ltd is expected to report...</td>\n",
              "    </tr>\n",
              "    <tr>\n",
              "      <th>1</th>\n",
              "      <td>BernardHickey</td>\n",
              "      <td>Australia's second-largest bank, Westpac Banki...</td>\n",
              "    </tr>\n",
              "    <tr>\n",
              "      <th>2</th>\n",
              "      <td>BernardHickey</td>\n",
              "      <td>Airline giant British Airways Plc (BA) is unli...</td>\n",
              "    </tr>\n",
              "    <tr>\n",
              "      <th>3</th>\n",
              "      <td>BernardHickey</td>\n",
              "      <td>An official inquiry into Australia's financial...</td>\n",
              "    </tr>\n",
              "    <tr>\n",
              "      <th>4</th>\n",
              "      <td>BernardHickey</td>\n",
              "      <td>World yeast and spices giant Burns Philp &amp;amp;...</td>\n",
              "    </tr>\n",
              "  </tbody>\n",
              "</table>\n",
              "</div>\n",
              "      <button class=\"colab-df-convert\" onclick=\"convertToInteractive('df-713a95d1-daef-4e64-bcea-0bb5ee773dc7')\"\n",
              "              title=\"Convert this dataframe to an interactive table.\"\n",
              "              style=\"display:none;\">\n",
              "        \n",
              "  <svg xmlns=\"http://www.w3.org/2000/svg\" height=\"24px\"viewBox=\"0 0 24 24\"\n",
              "       width=\"24px\">\n",
              "    <path d=\"M0 0h24v24H0V0z\" fill=\"none\"/>\n",
              "    <path d=\"M18.56 5.44l.94 2.06.94-2.06 2.06-.94-2.06-.94-.94-2.06-.94 2.06-2.06.94zm-11 1L8.5 8.5l.94-2.06 2.06-.94-2.06-.94L8.5 2.5l-.94 2.06-2.06.94zm10 10l.94 2.06.94-2.06 2.06-.94-2.06-.94-.94-2.06-.94 2.06-2.06.94z\"/><path d=\"M17.41 7.96l-1.37-1.37c-.4-.4-.92-.59-1.43-.59-.52 0-1.04.2-1.43.59L10.3 9.45l-7.72 7.72c-.78.78-.78 2.05 0 2.83L4 21.41c.39.39.9.59 1.41.59.51 0 1.02-.2 1.41-.59l7.78-7.78 2.81-2.81c.8-.78.8-2.07 0-2.86zM5.41 20L4 18.59l7.72-7.72 1.47 1.35L5.41 20z\"/>\n",
              "  </svg>\n",
              "      </button>\n",
              "      \n",
              "  <style>\n",
              "    .colab-df-container {\n",
              "      display:flex;\n",
              "      flex-wrap:wrap;\n",
              "      gap: 12px;\n",
              "    }\n",
              "\n",
              "    .colab-df-convert {\n",
              "      background-color: #E8F0FE;\n",
              "      border: none;\n",
              "      border-radius: 50%;\n",
              "      cursor: pointer;\n",
              "      display: none;\n",
              "      fill: #1967D2;\n",
              "      height: 32px;\n",
              "      padding: 0 0 0 0;\n",
              "      width: 32px;\n",
              "    }\n",
              "\n",
              "    .colab-df-convert:hover {\n",
              "      background-color: #E2EBFA;\n",
              "      box-shadow: 0px 1px 2px rgba(60, 64, 67, 0.3), 0px 1px 3px 1px rgba(60, 64, 67, 0.15);\n",
              "      fill: #174EA6;\n",
              "    }\n",
              "\n",
              "    [theme=dark] .colab-df-convert {\n",
              "      background-color: #3B4455;\n",
              "      fill: #D2E3FC;\n",
              "    }\n",
              "\n",
              "    [theme=dark] .colab-df-convert:hover {\n",
              "      background-color: #434B5C;\n",
              "      box-shadow: 0px 1px 3px 1px rgba(0, 0, 0, 0.15);\n",
              "      filter: drop-shadow(0px 1px 2px rgba(0, 0, 0, 0.3));\n",
              "      fill: #FFFFFF;\n",
              "    }\n",
              "  </style>\n",
              "\n",
              "      <script>\n",
              "        const buttonEl =\n",
              "          document.querySelector('#df-713a95d1-daef-4e64-bcea-0bb5ee773dc7 button.colab-df-convert');\n",
              "        buttonEl.style.display =\n",
              "          google.colab.kernel.accessAllowed ? 'block' : 'none';\n",
              "\n",
              "        async function convertToInteractive(key) {\n",
              "          const element = document.querySelector('#df-713a95d1-daef-4e64-bcea-0bb5ee773dc7');\n",
              "          const dataTable =\n",
              "            await google.colab.kernel.invokeFunction('convertToInteractive',\n",
              "                                                     [key], {});\n",
              "          if (!dataTable) return;\n",
              "\n",
              "          const docLinkHtml = 'Like what you see? Visit the ' +\n",
              "            '<a target=\"_blank\" href=https://colab.research.google.com/notebooks/data_table.ipynb>data table notebook</a>'\n",
              "            + ' to learn more about interactive tables.';\n",
              "          element.innerHTML = '';\n",
              "          dataTable['output_type'] = 'display_data';\n",
              "          await google.colab.output.renderOutput(dataTable, element);\n",
              "          const docLink = document.createElement('div');\n",
              "          docLink.innerHTML = docLinkHtml;\n",
              "          element.appendChild(docLink);\n",
              "        }\n",
              "      </script>\n",
              "    </div>\n",
              "  </div>\n",
              "  "
            ]
          },
          "metadata": {},
          "execution_count": 4
        }
      ],
      "source": [
        "train_df.head()"
      ]
    },
    {
      "cell_type": "markdown",
      "source": [
        "### Load \"All the News\" 1 Dataset"
      ],
      "metadata": {
        "id": "X0d03x1zf5Qf"
      }
    },
    {
      "cell_type": "code",
      "source": [
        "import pandas as pd\n",
        "\n",
        "random_seed = 42\n",
        "train_df = pd.read_csv('All the News/articles1.csv')\n",
        "train_df = train_df[(train_df.publication == 'Breitbart')]\n",
        "top10_authors = train_df[['author','id']].groupby('author').count().sort_values(by='id', ascending=False).head(10).reset_index() # this == what the paper proposed\n",
        "print('The authors are', top10_authors.author.values)\n",
        "train_df = pd.merge(train_df, top10_authors[['author']], on='author', how='right')\n",
        "train_df = train_df.groupby(by='author').sample(500, random_state=random_seed)\n",
        "train_df.shape"
      ],
      "metadata": {
        "id": "bEqlpU6Ff8eY",
        "colab": {
          "base_uri": "https://localhost:8080/"
        },
        "outputId": "6fc60683-5bd4-4129-f8ad-5a31fc3f8149"
      },
      "execution_count": null,
      "outputs": [
        {
          "output_type": "stream",
          "name": "stdout",
          "text": [
            "The authors are ['Breitbart News' 'Pam Key' 'Charlie Spiering' 'Jerome Hudson'\n",
            " 'John Hayward' 'Daniel Nussbaum' 'AWR Hawkins' 'Ian Hanchett'\n",
            " 'Joel B. Pollak' 'Alex Swoyer']\n"
          ]
        },
        {
          "output_type": "execute_result",
          "data": {
            "text/plain": [
              "(5000, 10)"
            ]
          },
          "metadata": {},
          "execution_count": 20
        }
      ]
    },
    {
      "cell_type": "markdown",
      "metadata": {
        "id": "6BDDlKnbeDUu"
      },
      "source": [
        "### Preprocessing"
      ]
    },
    {
      "cell_type": "code",
      "execution_count": null,
      "metadata": {
        "colab": {
          "base_uri": "https://localhost:8080/"
        },
        "id": "2T4lrHuhYBpc",
        "outputId": "640b524d-99a4-4253-b1f1-024b44ce9eff"
      },
      "outputs": [
        {
          "output_type": "stream",
          "name": "stdout",
          "text": [
            "Looking in indexes: https://pypi.org/simple, https://us-python.pkg.dev/colab-wheels/public/simple/\n",
            "Requirement already satisfied: transformers in /usr/local/lib/python3.7/dist-packages (4.23.1)\n",
            "Requirement already satisfied: tqdm>=4.27 in /usr/local/lib/python3.7/dist-packages (from transformers) (4.64.1)\n",
            "Requirement already satisfied: huggingface-hub<1.0,>=0.10.0 in /usr/local/lib/python3.7/dist-packages (from transformers) (0.10.1)\n",
            "Requirement already satisfied: importlib-metadata in /usr/local/lib/python3.7/dist-packages (from transformers) (5.0.0)\n",
            "Requirement already satisfied: filelock in /usr/local/lib/python3.7/dist-packages (from transformers) (3.8.0)\n",
            "Requirement already satisfied: packaging>=20.0 in /usr/local/lib/python3.7/dist-packages (from transformers) (21.3)\n",
            "Requirement already satisfied: pyyaml>=5.1 in /usr/local/lib/python3.7/dist-packages (from transformers) (6.0)\n",
            "Requirement already satisfied: requests in /usr/local/lib/python3.7/dist-packages (from transformers) (2.23.0)\n",
            "Requirement already satisfied: numpy>=1.17 in /usr/local/lib/python3.7/dist-packages (from transformers) (1.21.6)\n",
            "Requirement already satisfied: regex!=2019.12.17 in /usr/local/lib/python3.7/dist-packages (from transformers) (2022.6.2)\n",
            "Requirement already satisfied: tokenizers!=0.11.3,<0.14,>=0.11.1 in /usr/local/lib/python3.7/dist-packages (from transformers) (0.13.1)\n",
            "Requirement already satisfied: typing-extensions>=3.7.4.3 in /usr/local/lib/python3.7/dist-packages (from huggingface-hub<1.0,>=0.10.0->transformers) (4.1.1)\n",
            "Requirement already satisfied: pyparsing!=3.0.5,>=2.0.2 in /usr/local/lib/python3.7/dist-packages (from packaging>=20.0->transformers) (3.0.9)\n",
            "Requirement already satisfied: zipp>=0.5 in /usr/local/lib/python3.7/dist-packages (from importlib-metadata->transformers) (3.9.0)\n",
            "Requirement already satisfied: certifi>=2017.4.17 in /usr/local/lib/python3.7/dist-packages (from requests->transformers) (2022.9.24)\n",
            "Requirement already satisfied: chardet<4,>=3.0.2 in /usr/local/lib/python3.7/dist-packages (from requests->transformers) (3.0.4)\n",
            "Requirement already satisfied: idna<3,>=2.5 in /usr/local/lib/python3.7/dist-packages (from requests->transformers) (2.10)\n",
            "Requirement already satisfied: urllib3!=1.25.0,!=1.25.1,<1.26,>=1.21.1 in /usr/local/lib/python3.7/dist-packages (from requests->transformers) (1.24.3)\n"
          ]
        }
      ],
      "source": [
        "!pip install transformers"
      ]
    },
    {
      "cell_type": "code",
      "execution_count": null,
      "metadata": {
        "id": "Wt6Zc73y4sFD"
      },
      "outputs": [],
      "source": [
        "import torch\n",
        "import numpy as np\n",
        "from sklearn import preprocessing\n",
        "from transformers import DistilBertTokenizer, BertTokenizer, DebertaTokenizer\n",
        "\n",
        "le = preprocessing.LabelEncoder()\n",
        "le.fit(train_df['author'])\n",
        "random_seed = 42\n",
        "test_frac = 0.15\n",
        "test_df = train_df.sample(frac=test_frac, random_state=random_seed)\n",
        "train_df = train_df.drop(test_df.index)\n",
        "train_df['author_id'] = le.transform(train_df['author']).astype(int)\n",
        "test_df['author_id'] = le.transform(test_df['author']).astype(int)\n",
        "tokenizer = BertTokenizer.from_pretrained('bert-base-uncased')"
      ]
    },
    {
      "cell_type": "code",
      "execution_count": null,
      "metadata": {
        "colab": {
          "base_uri": "https://localhost:8080/",
          "height": 354
        },
        "id": "VJzX3Kif5s3X",
        "outputId": "461dab8f-5b99-411a-a46d-0bb3c7fffa2e"
      },
      "outputs": [
        {
          "output_type": "execute_result",
          "data": {
            "text/plain": [
              "      Unnamed: 0     id                                              title  \\\n",
              "3762       31449  50215  Still Climbing: Donald Trump Reaches New High ...   \n",
              "7125       20247  38993  Juan Williams: Members of Media ’Disappointed’...   \n",
              "6792        8207  26943  Cruz: Gorsuch A Principled Constitutionalist, ...   \n",
              "1364       29226  47990  Politico: Hillary Clinton a ’Broccoli Candidat...   \n",
              "8102       16640  35377  Donald Trump: Hillary Clinton’s ’Basket of Dep...   \n",
              "\n",
              "     publication            author        date    year  month  url  \\\n",
              "3762   Breitbart  Charlie Spiering  2016-09-19  2016.0    9.0  NaN   \n",
              "7125   Breitbart      Ian Hanchett  2016-12-05  2016.0   12.0  NaN   \n",
              "6792   Breitbart      Ian Hanchett  2017-01-31  2017.0    1.0  NaN   \n",
              "1364   Breitbart    Breitbart News  2016-01-08  2016.0    1.0  NaN   \n",
              "8102   Breitbart       Alex Swoyer  2016-09-10  2016.0    9.0  NaN   \n",
              "\n",
              "                                                content  author_id  \n",
              "3762  Republican presidential nominee Donald Trump i...          3  \n",
              "7125  On Monday’s broadcast of “The Five,” Fox News ...          5  \n",
              "6792  During an interview on CNN on Tuesday, Senator...          5  \n",
              "1364  Glenn Thrush, a solid progressive, writes at P...          2  \n",
              "8102  Donald Trump is firing back after Hillary Clin...          1  "
            ],
            "text/html": [
              "\n",
              "  <div id=\"df-396a6dcd-77a4-4cf7-8b4d-3ec4e99c6a0a\">\n",
              "    <div class=\"colab-df-container\">\n",
              "      <div>\n",
              "<style scoped>\n",
              "    .dataframe tbody tr th:only-of-type {\n",
              "        vertical-align: middle;\n",
              "    }\n",
              "\n",
              "    .dataframe tbody tr th {\n",
              "        vertical-align: top;\n",
              "    }\n",
              "\n",
              "    .dataframe thead th {\n",
              "        text-align: right;\n",
              "    }\n",
              "</style>\n",
              "<table border=\"1\" class=\"dataframe\">\n",
              "  <thead>\n",
              "    <tr style=\"text-align: right;\">\n",
              "      <th></th>\n",
              "      <th>Unnamed: 0</th>\n",
              "      <th>id</th>\n",
              "      <th>title</th>\n",
              "      <th>publication</th>\n",
              "      <th>author</th>\n",
              "      <th>date</th>\n",
              "      <th>year</th>\n",
              "      <th>month</th>\n",
              "      <th>url</th>\n",
              "      <th>content</th>\n",
              "      <th>author_id</th>\n",
              "    </tr>\n",
              "  </thead>\n",
              "  <tbody>\n",
              "    <tr>\n",
              "      <th>3762</th>\n",
              "      <td>31449</td>\n",
              "      <td>50215</td>\n",
              "      <td>Still Climbing: Donald Trump Reaches New High ...</td>\n",
              "      <td>Breitbart</td>\n",
              "      <td>Charlie Spiering</td>\n",
              "      <td>2016-09-19</td>\n",
              "      <td>2016.0</td>\n",
              "      <td>9.0</td>\n",
              "      <td>NaN</td>\n",
              "      <td>Republican presidential nominee Donald Trump i...</td>\n",
              "      <td>3</td>\n",
              "    </tr>\n",
              "    <tr>\n",
              "      <th>7125</th>\n",
              "      <td>20247</td>\n",
              "      <td>38993</td>\n",
              "      <td>Juan Williams: Members of Media ’Disappointed’...</td>\n",
              "      <td>Breitbart</td>\n",
              "      <td>Ian Hanchett</td>\n",
              "      <td>2016-12-05</td>\n",
              "      <td>2016.0</td>\n",
              "      <td>12.0</td>\n",
              "      <td>NaN</td>\n",
              "      <td>On Monday’s broadcast of “The Five,” Fox News ...</td>\n",
              "      <td>5</td>\n",
              "    </tr>\n",
              "    <tr>\n",
              "      <th>6792</th>\n",
              "      <td>8207</td>\n",
              "      <td>26943</td>\n",
              "      <td>Cruz: Gorsuch A Principled Constitutionalist, ...</td>\n",
              "      <td>Breitbart</td>\n",
              "      <td>Ian Hanchett</td>\n",
              "      <td>2017-01-31</td>\n",
              "      <td>2017.0</td>\n",
              "      <td>1.0</td>\n",
              "      <td>NaN</td>\n",
              "      <td>During an interview on CNN on Tuesday, Senator...</td>\n",
              "      <td>5</td>\n",
              "    </tr>\n",
              "    <tr>\n",
              "      <th>1364</th>\n",
              "      <td>29226</td>\n",
              "      <td>47990</td>\n",
              "      <td>Politico: Hillary Clinton a ’Broccoli Candidat...</td>\n",
              "      <td>Breitbart</td>\n",
              "      <td>Breitbart News</td>\n",
              "      <td>2016-01-08</td>\n",
              "      <td>2016.0</td>\n",
              "      <td>1.0</td>\n",
              "      <td>NaN</td>\n",
              "      <td>Glenn Thrush, a solid progressive, writes at P...</td>\n",
              "      <td>2</td>\n",
              "    </tr>\n",
              "    <tr>\n",
              "      <th>8102</th>\n",
              "      <td>16640</td>\n",
              "      <td>35377</td>\n",
              "      <td>Donald Trump: Hillary Clinton’s ’Basket of Dep...</td>\n",
              "      <td>Breitbart</td>\n",
              "      <td>Alex Swoyer</td>\n",
              "      <td>2016-09-10</td>\n",
              "      <td>2016.0</td>\n",
              "      <td>9.0</td>\n",
              "      <td>NaN</td>\n",
              "      <td>Donald Trump is firing back after Hillary Clin...</td>\n",
              "      <td>1</td>\n",
              "    </tr>\n",
              "  </tbody>\n",
              "</table>\n",
              "</div>\n",
              "      <button class=\"colab-df-convert\" onclick=\"convertToInteractive('df-396a6dcd-77a4-4cf7-8b4d-3ec4e99c6a0a')\"\n",
              "              title=\"Convert this dataframe to an interactive table.\"\n",
              "              style=\"display:none;\">\n",
              "        \n",
              "  <svg xmlns=\"http://www.w3.org/2000/svg\" height=\"24px\"viewBox=\"0 0 24 24\"\n",
              "       width=\"24px\">\n",
              "    <path d=\"M0 0h24v24H0V0z\" fill=\"none\"/>\n",
              "    <path d=\"M18.56 5.44l.94 2.06.94-2.06 2.06-.94-2.06-.94-.94-2.06-.94 2.06-2.06.94zm-11 1L8.5 8.5l.94-2.06 2.06-.94-2.06-.94L8.5 2.5l-.94 2.06-2.06.94zm10 10l.94 2.06.94-2.06 2.06-.94-2.06-.94-.94-2.06-.94 2.06-2.06.94z\"/><path d=\"M17.41 7.96l-1.37-1.37c-.4-.4-.92-.59-1.43-.59-.52 0-1.04.2-1.43.59L10.3 9.45l-7.72 7.72c-.78.78-.78 2.05 0 2.83L4 21.41c.39.39.9.59 1.41.59.51 0 1.02-.2 1.41-.59l7.78-7.78 2.81-2.81c.8-.78.8-2.07 0-2.86zM5.41 20L4 18.59l7.72-7.72 1.47 1.35L5.41 20z\"/>\n",
              "  </svg>\n",
              "      </button>\n",
              "      \n",
              "  <style>\n",
              "    .colab-df-container {\n",
              "      display:flex;\n",
              "      flex-wrap:wrap;\n",
              "      gap: 12px;\n",
              "    }\n",
              "\n",
              "    .colab-df-convert {\n",
              "      background-color: #E8F0FE;\n",
              "      border: none;\n",
              "      border-radius: 50%;\n",
              "      cursor: pointer;\n",
              "      display: none;\n",
              "      fill: #1967D2;\n",
              "      height: 32px;\n",
              "      padding: 0 0 0 0;\n",
              "      width: 32px;\n",
              "    }\n",
              "\n",
              "    .colab-df-convert:hover {\n",
              "      background-color: #E2EBFA;\n",
              "      box-shadow: 0px 1px 2px rgba(60, 64, 67, 0.3), 0px 1px 3px 1px rgba(60, 64, 67, 0.15);\n",
              "      fill: #174EA6;\n",
              "    }\n",
              "\n",
              "    [theme=dark] .colab-df-convert {\n",
              "      background-color: #3B4455;\n",
              "      fill: #D2E3FC;\n",
              "    }\n",
              "\n",
              "    [theme=dark] .colab-df-convert:hover {\n",
              "      background-color: #434B5C;\n",
              "      box-shadow: 0px 1px 3px 1px rgba(0, 0, 0, 0.15);\n",
              "      filter: drop-shadow(0px 1px 2px rgba(0, 0, 0, 0.3));\n",
              "      fill: #FFFFFF;\n",
              "    }\n",
              "  </style>\n",
              "\n",
              "      <script>\n",
              "        const buttonEl =\n",
              "          document.querySelector('#df-396a6dcd-77a4-4cf7-8b4d-3ec4e99c6a0a button.colab-df-convert');\n",
              "        buttonEl.style.display =\n",
              "          google.colab.kernel.accessAllowed ? 'block' : 'none';\n",
              "\n",
              "        async function convertToInteractive(key) {\n",
              "          const element = document.querySelector('#df-396a6dcd-77a4-4cf7-8b4d-3ec4e99c6a0a');\n",
              "          const dataTable =\n",
              "            await google.colab.kernel.invokeFunction('convertToInteractive',\n",
              "                                                     [key], {});\n",
              "          if (!dataTable) return;\n",
              "\n",
              "          const docLinkHtml = 'Like what you see? Visit the ' +\n",
              "            '<a target=\"_blank\" href=https://colab.research.google.com/notebooks/data_table.ipynb>data table notebook</a>'\n",
              "            + ' to learn more about interactive tables.';\n",
              "          element.innerHTML = '';\n",
              "          dataTable['output_type'] = 'display_data';\n",
              "          await google.colab.output.renderOutput(dataTable, element);\n",
              "          const docLink = document.createElement('div');\n",
              "          docLink.innerHTML = docLinkHtml;\n",
              "          element.appendChild(docLink);\n",
              "        }\n",
              "      </script>\n",
              "    </div>\n",
              "  </div>\n",
              "  "
            ]
          },
          "metadata": {},
          "execution_count": 22
        }
      ],
      "source": [
        "test_df.head()"
      ]
    },
    {
      "cell_type": "code",
      "source": [
        "print('The average length of text of an article in training set is', np.mean([len(content.split()) for content in train_df['content'].values]), \n",
        "      'and in test set is', np.mean([len(content.split()) for content in test_df['content'].values]))"
      ],
      "metadata": {
        "colab": {
          "base_uri": "https://localhost:8080/"
        },
        "id": "keYoKbPLifti",
        "outputId": "252c0a2d-be97-4adc-e994-117659048bd7"
      },
      "execution_count": null,
      "outputs": [
        {
          "output_type": "stream",
          "name": "stdout",
          "text": [
            "The average length of text of an article in training set is 423.20305882352943 and in test set is 442.7626666666667\n"
          ]
        }
      ]
    },
    {
      "cell_type": "code",
      "execution_count": null,
      "metadata": {
        "id": "tpS7ij7OCq-C"
      },
      "outputs": [],
      "source": [
        "random_seed = 42\n",
        "valid_frac = 0.1 / (1 - test_frac)\n",
        "valid_df = train_df.sample(frac=valid_frac, random_state=random_seed)\n",
        "train_df = train_df.drop(valid_df.index)"
      ]
    },
    {
      "cell_type": "markdown",
      "metadata": {
        "id": "A7xzXXdd6RID"
      },
      "source": [
        "### Dataset Class"
      ]
    },
    {
      "cell_type": "code",
      "execution_count": null,
      "metadata": {
        "id": "F0fUzQPv5pDE"
      },
      "outputs": [],
      "source": [
        "class Dataset(torch.utils.data.Dataset):\n",
        "\n",
        "    def __init__(self, df):\n",
        "\n",
        "        self.labels = df['author_id'].values\n",
        "        self.texts = [tokenizer(text, \n",
        "                               padding='max_length', max_length = 512, truncation=True,\n",
        "                                return_tensors=\"pt\") for text in df['content']]\n",
        "\n",
        "    def classes(self):\n",
        "        return self.labels\n",
        "\n",
        "    def __len__(self):\n",
        "        return len(self.labels)\n",
        "\n",
        "    def get_batch_labels(self, idx):\n",
        "        # Fetch a batch of labels\n",
        "        return np.array(self.labels[idx])\n",
        "\n",
        "    def get_batch_texts(self, idx):\n",
        "        # Fetch a batch of inputs\n",
        "        return self.texts[idx]\n",
        "\n",
        "    def __getitem__(self, idx):\n",
        "\n",
        "        batch_texts = self.get_batch_texts(idx)\n",
        "        batch_y = self.get_batch_labels(idx)\n",
        "\n",
        "        return batch_texts, batch_y"
      ]
    },
    {
      "cell_type": "markdown",
      "metadata": {
        "id": "PsNlow3J6Us5"
      },
      "source": [
        "### Model Class"
      ]
    },
    {
      "cell_type": "code",
      "execution_count": null,
      "metadata": {
        "id": "1cGKWv_F6at7"
      },
      "outputs": [],
      "source": [
        "from torch import nn\n",
        "from transformers import DistilBertForSequenceClassification, BertForSequenceClassification, DebertaForSequenceClassification, get_linear_schedule_with_warmup\n",
        "\n",
        "class BertClassifier(nn.Module):\n",
        "\n",
        "    def __init__(self, dropout=0.5):\n",
        "\n",
        "        super().__init__()\n",
        "\n",
        "        self.bert = BertForSequenceClassification.from_pretrained('bert-base-uncased', num_labels=10)\n",
        "        # self.dropout = nn.Dropout(dropout)\n",
        "        # self.linear = nn.Linear(768, 50)\n",
        "        # self.relu = nn.ReLU()\n",
        "\n",
        "    def forward(self, input_id, labels):\n",
        "\n",
        "        # pooled_output, = self.bert(input_ids=input_id, attention_mask=mask, return_dict=False)\n",
        "        # pooled_output = pooled_output[:,0,:]\n",
        "        # dropout_output = self.dropout(pooled_output)\n",
        "        # linear_output = self.linear(dropout_output)\n",
        "        # final_layer = self.relu(linear_output)\n",
        "        # print(input_id.shape, labels.shape)\n",
        "        final_layer = self.bert(input_id, labels=labels)\n",
        "\n",
        "        return final_layer"
      ]
    },
    {
      "cell_type": "markdown",
      "metadata": {
        "id": "MOWKtqfQ6zMl"
      },
      "source": [
        "### Training"
      ]
    },
    {
      "cell_type": "code",
      "execution_count": null,
      "metadata": {
        "colab": {
          "base_uri": "https://localhost:8080/"
        },
        "id": "MDXX8kH8Lifw",
        "outputId": "4ca74f90-0f0a-487f-98e8-55402156f583"
      },
      "outputs": [
        {
          "output_type": "stream",
          "name": "stdout",
          "text": [
            "fatal: destination path 'jslog' already exists and is not an empty directory.\n"
          ]
        }
      ],
      "source": [
        "!git clone https://gist.github.com/NTT123/4596e5533e573c8ceab2f319ab5d36a2 jslog\n",
        "import random\n",
        "import math\n",
        "import time\n",
        "from jslog.jslogger import JSLogger\n",
        "\n",
        "logger = JSLogger('train/valid loss', ['train', 'valid'])\n",
        "logger_ = JSLogger('train/valid accuracy', ['train', 'valid'])"
      ]
    },
    {
      "cell_type": "code",
      "execution_count": null,
      "metadata": {
        "colab": {
          "base_uri": "https://localhost:8080/",
          "height": 1000
        },
        "id": "wwv_Nnaw6y8t",
        "outputId": "781b66aa-2cd5-48fb-ef98-f231d4558f1c"
      },
      "outputs": [
        {
          "output_type": "display_data",
          "data": {
            "text/plain": [
              "<IPython.core.display.HTML object>"
            ],
            "text/html": [
              "\n",
              "            <script src=\"https://cdn.jsdelivr.net/npm/chart.js@2.9.3/dist/Chart.min.js\"></script>\n",
              "            <div class=\"chart-container\" style=\"height:250px; width:500px;\"><canvas id=\"3420838524\"></canvas></div>\n",
              "            <script>\n",
              "            var ctx_3420838524 = document.getElementById('3420838524').getContext('2d');\n",
              "            ctx_3420838524.canvas.width = 500;\n",
              "\t\t    ctx_3420838524.canvas.height = 250;\n",
              "\n",
              "            var myLineChart_3420838524 = new Chart(ctx_3420838524, {\n",
              "            type: 'line',\n",
              "            data: {labels: [],datasets: [\n",
              "            {\n",
              "                data: [], \n",
              "                label: \"train\",\n",
              "                borderColor: \"#4dc9f6\",\n",
              "                borderWidth: 1.5, \n",
              "                pointRadius: 0, \n",
              "                lineTension: 0,\n",
              "                backgroundColor: 'rgba(0, 0, 0, 0)',\n",
              "                fill: false\n",
              "            }\n",
              "            , \n",
              "            {\n",
              "                data: [], \n",
              "                label: \"valid\",\n",
              "                borderColor: \"#f67019\",\n",
              "                borderWidth: 1.5, \n",
              "                pointRadius: 0, \n",
              "                lineTension: 0,\n",
              "                backgroundColor: 'rgba(0, 0, 0, 0)',\n",
              "                fill: false\n",
              "            }\n",
              "            ]},\n",
              "            options: {\n",
              "                tooltips: {intersect: false,mode: 'index'},\n",
              "\t\t\t\tanimation: {duration: 0},\n",
              "                title: {display: true,text: 'train/valid loss'} } });\n",
              "            function addData(chart, label, data) {\n",
              "                chart.data.labels.push(label);\n",
              "                chart.data.datasets.forEach((dataset, i) => {\n",
              "                    dataset.data.push(data[i]);\n",
              "                });\n",
              "                chart.update();\n",
              "            }\n",
              "            </script>\n",
              "        "
            ]
          },
          "metadata": {}
        },
        {
          "output_type": "display_data",
          "data": {
            "text/plain": [
              "<IPython.core.display.HTML object>"
            ],
            "text/html": [
              "\n",
              "            <script src=\"https://cdn.jsdelivr.net/npm/chart.js@2.9.3/dist/Chart.min.js\"></script>\n",
              "            <div class=\"chart-container\" style=\"height:250px; width:500px;\"><canvas id=\"3034047492\"></canvas></div>\n",
              "            <script>\n",
              "            var ctx_3034047492 = document.getElementById('3034047492').getContext('2d');\n",
              "            ctx_3034047492.canvas.width = 500;\n",
              "\t\t    ctx_3034047492.canvas.height = 250;\n",
              "\n",
              "            var myLineChart_3034047492 = new Chart(ctx_3034047492, {\n",
              "            type: 'line',\n",
              "            data: {labels: [],datasets: [\n",
              "            {\n",
              "                data: [], \n",
              "                label: \"train\",\n",
              "                borderColor: \"#4dc9f6\",\n",
              "                borderWidth: 1.5, \n",
              "                pointRadius: 0, \n",
              "                lineTension: 0,\n",
              "                backgroundColor: 'rgba(0, 0, 0, 0)',\n",
              "                fill: false\n",
              "            }\n",
              "            , \n",
              "            {\n",
              "                data: [], \n",
              "                label: \"valid\",\n",
              "                borderColor: \"#f67019\",\n",
              "                borderWidth: 1.5, \n",
              "                pointRadius: 0, \n",
              "                lineTension: 0,\n",
              "                backgroundColor: 'rgba(0, 0, 0, 0)',\n",
              "                fill: false\n",
              "            }\n",
              "            ]},\n",
              "            options: {\n",
              "                tooltips: {intersect: false,mode: 'index'},\n",
              "\t\t\t\tanimation: {duration: 0},\n",
              "                title: {display: true,text: 'train/valid accuracy'} } });\n",
              "            function addData(chart, label, data) {\n",
              "                chart.data.labels.push(label);\n",
              "                chart.data.datasets.forEach((dataset, i) => {\n",
              "                    dataset.data.push(data[i]);\n",
              "                });\n",
              "                chart.update();\n",
              "            }\n",
              "            </script>\n",
              "        "
            ]
          },
          "metadata": {}
        },
        {
          "output_type": "stream",
          "name": "stderr",
          "text": [
            "Some weights of the model checkpoint at bert-base-uncased were not used when initializing BertForSequenceClassification: ['cls.seq_relationship.weight', 'cls.predictions.transform.LayerNorm.bias', 'cls.predictions.decoder.weight', 'cls.predictions.transform.dense.bias', 'cls.seq_relationship.bias', 'cls.predictions.transform.dense.weight', 'cls.predictions.bias', 'cls.predictions.transform.LayerNorm.weight']\n",
            "- This IS expected if you are initializing BertForSequenceClassification from the checkpoint of a model trained on another task or with another architecture (e.g. initializing a BertForSequenceClassification model from a BertForPreTraining model).\n",
            "- This IS NOT expected if you are initializing BertForSequenceClassification from the checkpoint of a model that you expect to be exactly identical (initializing a BertForSequenceClassification model from a BertForSequenceClassification model).\n",
            "Some weights of BertForSequenceClassification were not initialized from the model checkpoint at bert-base-uncased and are newly initialized: ['classifier.weight', 'classifier.bias']\n",
            "You should probably TRAIN this model on a down-stream task to be able to use it for predictions and inference.\n"
          ]
        },
        {
          "output_type": "stream",
          "name": "stdout",
          "text": [
            "There are 109489930 parameters\n",
            "cuda version 1.12.1+cu113\n"
          ]
        },
        {
          "output_type": "stream",
          "name": "stderr",
          "text": [
            "100%|██████████| 469/469 [06:34<00:00,  1.19it/s]\n"
          ]
        },
        {
          "output_type": "stream",
          "name": "stdout",
          "text": [
            "Epochs: 1 | Train Loss:  0.1587                 | Train Accuracy:  0.5976                 | Val Loss:  0.0659                 | Val Accuracy:  0.8480\n"
          ]
        },
        {
          "output_type": "display_data",
          "data": {
            "text/plain": [
              "<IPython.core.display.Javascript object>"
            ],
            "application/javascript": [
              "\n",
              "            addData(myLineChart_3420838524, 1, [0.15866096473534902, 0.06594757834076881]);    \n",
              "        "
            ]
          },
          "metadata": {}
        },
        {
          "output_type": "display_data",
          "data": {
            "text/plain": [
              "<IPython.core.display.Javascript object>"
            ],
            "application/javascript": [
              "\n",
              "            addData(myLineChart_3034047492, 1, [0.5976, 0.848]);    \n",
              "        "
            ]
          },
          "metadata": {}
        },
        {
          "output_type": "stream",
          "name": "stderr",
          "text": [
            "100%|██████████| 469/469 [06:35<00:00,  1.19it/s]\n"
          ]
        },
        {
          "output_type": "stream",
          "name": "stdout",
          "text": [
            "Epochs: 2 | Train Loss:  0.0472                 | Train Accuracy:  0.8856                 | Val Loss:  0.0370                 | Val Accuracy:  0.9040\n"
          ]
        },
        {
          "output_type": "display_data",
          "data": {
            "text/plain": [
              "<IPython.core.display.Javascript object>"
            ],
            "application/javascript": [
              "\n",
              "            addData(myLineChart_3420838524, 2, [0.04722503785888354, 0.03695602006092667]);    \n",
              "        "
            ]
          },
          "metadata": {}
        },
        {
          "output_type": "display_data",
          "data": {
            "text/plain": [
              "<IPython.core.display.Javascript object>"
            ],
            "application/javascript": [
              "\n",
              "            addData(myLineChart_3034047492, 2, [0.8856, 0.904]);    \n",
              "        "
            ]
          },
          "metadata": {}
        },
        {
          "output_type": "stream",
          "name": "stderr",
          "text": [
            "100%|██████████| 469/469 [06:35<00:00,  1.19it/s]\n"
          ]
        },
        {
          "output_type": "stream",
          "name": "stdout",
          "text": [
            "Epochs: 3 | Train Loss:  0.0217                 | Train Accuracy:  0.9531                 | Val Loss:  0.0341                 | Val Accuracy:  0.9240\n"
          ]
        },
        {
          "output_type": "display_data",
          "data": {
            "text/plain": [
              "<IPython.core.display.Javascript object>"
            ],
            "application/javascript": [
              "\n",
              "            addData(myLineChart_3420838524, 3, [0.021665584798157216, 0.034067376490682366]);    \n",
              "        "
            ]
          },
          "metadata": {}
        },
        {
          "output_type": "display_data",
          "data": {
            "text/plain": [
              "<IPython.core.display.Javascript object>"
            ],
            "application/javascript": [
              "\n",
              "            addData(myLineChart_3034047492, 3, [0.9530666666666666, 0.924]);    \n",
              "        "
            ]
          },
          "metadata": {}
        },
        {
          "output_type": "stream",
          "name": "stderr",
          "text": [
            "100%|██████████| 469/469 [06:35<00:00,  1.19it/s]\n"
          ]
        },
        {
          "output_type": "stream",
          "name": "stdout",
          "text": [
            "Epochs: 4 | Train Loss:  0.0097                 | Train Accuracy:  0.9821                 | Val Loss:  0.0330                 | Val Accuracy:  0.9180\n"
          ]
        },
        {
          "output_type": "display_data",
          "data": {
            "text/plain": [
              "<IPython.core.display.Javascript object>"
            ],
            "application/javascript": [
              "\n",
              "            addData(myLineChart_3420838524, 4, [0.009670465589066346, 0.03301620181649923]);    \n",
              "        "
            ]
          },
          "metadata": {}
        },
        {
          "output_type": "display_data",
          "data": {
            "text/plain": [
              "<IPython.core.display.Javascript object>"
            ],
            "application/javascript": [
              "\n",
              "            addData(myLineChart_3034047492, 4, [0.9821333333333333, 0.918]);    \n",
              "        "
            ]
          },
          "metadata": {}
        },
        {
          "output_type": "stream",
          "name": "stderr",
          "text": [
            "100%|██████████| 469/469 [06:35<00:00,  1.19it/s]\n"
          ]
        },
        {
          "output_type": "stream",
          "name": "stdout",
          "text": [
            "Epochs: 5 | Train Loss:  0.0042                 | Train Accuracy:  0.9941                 | Val Loss:  0.0300                 | Val Accuracy:  0.9260\n"
          ]
        },
        {
          "output_type": "display_data",
          "data": {
            "text/plain": [
              "<IPython.core.display.Javascript object>"
            ],
            "application/javascript": [
              "\n",
              "            addData(myLineChart_3420838524, 5, [0.0042274234496057035, 0.029959732238203286]);    \n",
              "        "
            ]
          },
          "metadata": {}
        },
        {
          "output_type": "display_data",
          "data": {
            "text/plain": [
              "<IPython.core.display.Javascript object>"
            ],
            "application/javascript": [
              "\n",
              "            addData(myLineChart_3034047492, 5, [0.9941333333333333, 0.926]);    \n",
              "        "
            ]
          },
          "metadata": {}
        },
        {
          "output_type": "stream",
          "name": "stderr",
          "text": [
            "100%|██████████| 469/469 [06:35<00:00,  1.18it/s]\n"
          ]
        },
        {
          "output_type": "stream",
          "name": "stdout",
          "text": [
            "Epochs: 6 | Train Loss:  0.0025                 | Train Accuracy:  0.9968                 | Val Loss:  0.0329                 | Val Accuracy:  0.9300\n"
          ]
        },
        {
          "output_type": "display_data",
          "data": {
            "text/plain": [
              "<IPython.core.display.Javascript object>"
            ],
            "application/javascript": [
              "\n",
              "            addData(myLineChart_3420838524, 6, [0.002507691893229882, 0.0329298417782411]);    \n",
              "        "
            ]
          },
          "metadata": {}
        },
        {
          "output_type": "display_data",
          "data": {
            "text/plain": [
              "<IPython.core.display.Javascript object>"
            ],
            "application/javascript": [
              "\n",
              "            addData(myLineChart_3034047492, 6, [0.9968, 0.93]);    \n",
              "        "
            ]
          },
          "metadata": {}
        },
        {
          "output_type": "stream",
          "name": "stderr",
          "text": [
            "100%|██████████| 469/469 [06:36<00:00,  1.18it/s]\n"
          ]
        },
        {
          "output_type": "stream",
          "name": "stdout",
          "text": [
            "Epochs: 7 | Train Loss:  0.0011                 | Train Accuracy:  0.9997                 | Val Loss:  0.0302                 | Val Accuracy:  0.9360\n"
          ]
        },
        {
          "output_type": "display_data",
          "data": {
            "text/plain": [
              "<IPython.core.display.Javascript object>"
            ],
            "application/javascript": [
              "\n",
              "            addData(myLineChart_3420838524, 7, [0.0011170378615458806, 0.030159068954642862]);    \n",
              "        "
            ]
          },
          "metadata": {}
        },
        {
          "output_type": "display_data",
          "data": {
            "text/plain": [
              "<IPython.core.display.Javascript object>"
            ],
            "application/javascript": [
              "\n",
              "            addData(myLineChart_3034047492, 7, [0.9997333333333334, 0.936]);    \n",
              "        "
            ]
          },
          "metadata": {}
        },
        {
          "output_type": "stream",
          "name": "stderr",
          "text": [
            "100%|██████████| 469/469 [06:35<00:00,  1.18it/s]\n"
          ]
        },
        {
          "output_type": "stream",
          "name": "stdout",
          "text": [
            "Epochs: 8 | Train Loss:  0.0008                 | Train Accuracy:  1.0000                 | Val Loss:  0.0311                 | Val Accuracy:  0.9360\n"
          ]
        },
        {
          "output_type": "display_data",
          "data": {
            "text/plain": [
              "<IPython.core.display.Javascript object>"
            ],
            "application/javascript": [
              "\n",
              "            addData(myLineChart_3420838524, 8, [0.0007757688572630286, 0.03105122472345829]);    \n",
              "        "
            ]
          },
          "metadata": {}
        },
        {
          "output_type": "display_data",
          "data": {
            "text/plain": [
              "<IPython.core.display.Javascript object>"
            ],
            "application/javascript": [
              "\n",
              "            addData(myLineChart_3034047492, 8, [1.0, 0.936]);    \n",
              "        "
            ]
          },
          "metadata": {}
        },
        {
          "output_type": "stream",
          "name": "stderr",
          "text": [
            "100%|██████████| 469/469 [06:36<00:00,  1.18it/s]\n"
          ]
        },
        {
          "output_type": "stream",
          "name": "stdout",
          "text": [
            "Epochs: 9 | Train Loss:  0.0006                 | Train Accuracy:  1.0000                 | Val Loss:  0.0320                 | Val Accuracy:  0.9340\n"
          ]
        },
        {
          "output_type": "display_data",
          "data": {
            "text/plain": [
              "<IPython.core.display.Javascript object>"
            ],
            "application/javascript": [
              "\n",
              "            addData(myLineChart_3420838524, 9, [0.0006490716148167848, 0.031963856651447714]);    \n",
              "        "
            ]
          },
          "metadata": {}
        },
        {
          "output_type": "display_data",
          "data": {
            "text/plain": [
              "<IPython.core.display.Javascript object>"
            ],
            "application/javascript": [
              "\n",
              "            addData(myLineChart_3034047492, 9, [1.0, 0.934]);    \n",
              "        "
            ]
          },
          "metadata": {}
        },
        {
          "output_type": "stream",
          "name": "stderr",
          "text": [
            "100%|██████████| 469/469 [06:35<00:00,  1.19it/s]\n"
          ]
        },
        {
          "output_type": "stream",
          "name": "stdout",
          "text": [
            "Epochs: 10 | Train Loss:  0.0006                 | Train Accuracy:  1.0000                 | Val Loss:  0.0322                 | Val Accuracy:  0.9340\n"
          ]
        },
        {
          "output_type": "display_data",
          "data": {
            "text/plain": [
              "<IPython.core.display.Javascript object>"
            ],
            "application/javascript": [
              "\n",
              "            addData(myLineChart_3420838524, 10, [0.0005955051475514968, 0.032181324591860176]);    \n",
              "        "
            ]
          },
          "metadata": {}
        },
        {
          "output_type": "display_data",
          "data": {
            "text/plain": [
              "<IPython.core.display.Javascript object>"
            ],
            "application/javascript": [
              "\n",
              "            addData(myLineChart_3034047492, 10, [1.0, 0.934]);    \n",
              "        "
            ]
          },
          "metadata": {}
        }
      ],
      "source": [
        "from torch.optim import AdamW\n",
        "from tqdm import tqdm\n",
        "\n",
        "def train(model, train_data, val_data, learning_rate, epochs):\n",
        "\n",
        "    train, val = Dataset(train_data), Dataset(val_data)\n",
        "\n",
        "    train_dataloader = torch.utils.data.DataLoader(train, batch_size=8, shuffle=True)\n",
        "    val_dataloader = torch.utils.data.DataLoader(val, batch_size=8)\n",
        "\n",
        "    use_cuda = torch.cuda.is_available()\n",
        "    device = torch.device(\"cuda\" if use_cuda else \"cpu\")\n",
        "\n",
        "    criterion = nn.CrossEntropyLoss()\n",
        "    optimizer = AdamW(model.parameters(), lr=learning_rate)\n",
        "    lr_scheduler = get_linear_schedule_with_warmup(\n",
        "        optimizer=optimizer,\n",
        "        num_warmup_steps=100,\n",
        "        num_training_steps=len(train_dataloader) * epochs,\n",
        "    )\n",
        "\n",
        "    if use_cuda:\n",
        "\n",
        "            print('cuda version', torch.__version__)\n",
        "            model = model.cuda()\n",
        "            criterion = criterion.cuda()\n",
        "\n",
        "    for epoch_num in range(epochs):\n",
        "\n",
        "            total_acc_train = 0\n",
        "            total_loss_train = 0\n",
        "            model.train()\n",
        "\n",
        "            for train_input, train_label in tqdm(train_dataloader):\n",
        "\n",
        "                train_label = train_label.to(device)\n",
        "                # mask = train_input['attention_mask'].to(device)\n",
        "                input_id = train_input['input_ids'].squeeze(1).to(device)\n",
        "\n",
        "                output = model(input_id, train_label)\n",
        "                \n",
        "                # batch_loss = criterion(output, train_label.long())\n",
        "                batch_loss = output.loss\n",
        "                total_loss_train += batch_loss.item()\n",
        "                \n",
        "                acc = (output.logits.argmax(dim=1) == train_label).sum().item()\n",
        "                total_acc_train += acc\n",
        "\n",
        "                model.zero_grad()\n",
        "                batch_loss.backward()\n",
        "                optimizer.step()\n",
        "                lr_scheduler.step()\n",
        "            \n",
        "            total_acc_val = 0\n",
        "            total_loss_val = 0\n",
        "            model.eval()\n",
        "\n",
        "            with torch.no_grad():\n",
        "\n",
        "                for val_input, val_label in val_dataloader:\n",
        "\n",
        "                    val_label = val_label.to(device)\n",
        "                    mask = val_input['attention_mask'].to(device)\n",
        "                    input_id = val_input['input_ids'].squeeze(1).to(device)\n",
        "\n",
        "                    output = model(input_id, val_label)\n",
        "\n",
        "                    # batch_loss = criterion(output, val_label.long())\n",
        "                    batch_loss = output.loss\n",
        "                    total_loss_val += batch_loss.item()\n",
        "                    \n",
        "                    acc = (output.logits.argmax(dim=1) == val_label).sum().item()\n",
        "                    total_acc_val += acc\n",
        "            \n",
        "            print(\n",
        "                f'Epochs: {epoch_num + 1} | Train Loss: {total_loss_train / len(train_data): .4f} \\\n",
        "                | Train Accuracy: {total_acc_train / len(train_data): .4f} \\\n",
        "                | Val Loss: {total_loss_val / len(val_data): .4f} \\\n",
        "                | Val Accuracy: {total_acc_val / len(val_data): .4f}')\n",
        "            \n",
        "            logger.log(epoch_num + 1, {'train': total_loss_train / len(train_data), 'valid': total_loss_val / len(val_data)})\n",
        "            logger_.log(epoch_num + 1, {'train': total_acc_train / len(train_data), 'valid': total_acc_val / len(val_data)})\n",
        "\n",
        "logger.show()\n",
        "logger_.show()             \n",
        "EPOCHS = 10\n",
        "model = BertClassifier()\n",
        "print('There are', sum(p.numel() for p in model.parameters()), 'parameters')\n",
        "LR = 2e-5\n",
        "              \n",
        "train(model, train_df, valid_df, LR, EPOCHS)"
      ]
    },
    {
      "cell_type": "markdown",
      "metadata": {
        "id": "Rv_BDjcu7MWm"
      },
      "source": [
        "### Evaluate"
      ]
    },
    {
      "cell_type": "code",
      "execution_count": null,
      "metadata": {
        "id": "_v6cYf8e7OMw",
        "colab": {
          "base_uri": "https://localhost:8080/"
        },
        "outputId": "07ace896-2ff6-4557-80c1-249350a3d0e8"
      },
      "outputs": [
        {
          "output_type": "stream",
          "name": "stdout",
          "text": [
            "Test Accuracy:  0.9307\n"
          ]
        }
      ],
      "source": [
        "def evaluate(model, test_data):\n",
        "\n",
        "    test = Dataset(test_data)\n",
        "\n",
        "    test_dataloader = torch.utils.data.DataLoader(test, batch_size=32)\n",
        "\n",
        "    use_cuda = torch.cuda.is_available()\n",
        "    device = torch.device(\"cuda\" if use_cuda else \"cpu\")\n",
        "\n",
        "    if use_cuda:\n",
        "\n",
        "        model = model.cuda()\n",
        "\n",
        "    total_acc_test = 0\n",
        "    model.eval()\n",
        "    \n",
        "    with torch.no_grad():\n",
        "\n",
        "        for test_input, test_label in test_dataloader:\n",
        "\n",
        "              test_label = test_label.to(device)\n",
        "              # mask = test_input['attention_mask'].to(device)\n",
        "              input_id = test_input['input_ids'].squeeze(1).to(device)\n",
        "\n",
        "              output = model(input_id, test_label)\n",
        "\n",
        "              acc = (output.logits.argmax(dim=1) == test_label).sum().item()\n",
        "              total_acc_test += acc\n",
        "    \n",
        "    print(f'Test Accuracy: {total_acc_test / len(test_data): .4f}')\n",
        "    \n",
        "evaluate(model, test_df)"
      ]
    }
  ],
  "metadata": {
    "colab": {
      "collapsed_sections": [],
      "provenance": [],
      "mount_file_id": "1ZO6zy-jb5c4IFPs9bJj9_z3Pqk4m9KHQ",
      "authorship_tag": "ABX9TyMFvLA6mkPf1t7XT96GqVv7",
      "include_colab_link": true
    },
    "kernelspec": {
      "display_name": "Python 3",
      "name": "python3"
    },
    "language_info": {
      "name": "python"
    },
    "gpuClass": "standard"
  },
  "nbformat": 4,
  "nbformat_minor": 0
}